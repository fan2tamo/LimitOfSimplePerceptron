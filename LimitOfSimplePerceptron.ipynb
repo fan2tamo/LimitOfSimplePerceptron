{
 "cells": [
  {
   "cell_type": "code",
   "execution_count": 1,
   "metadata": {},
   "outputs": [],
   "source": [
    "import numpy as np\n",
    "import matplotlib.pyplot as plt\n",
    "%matplotlib inline"
   ]
  },
  {
   "cell_type": "code",
   "execution_count": 2,
   "metadata": {},
   "outputs": [],
   "source": [
    "class SimplePerceptron:\n",
    "    def __init__(self, isRegression = False, times = 1000, alpha = 0.5, epsilon = 0.0001, seed=0):\n",
    "        \"\"\"\n",
    "        初期化\n",
    "        \n",
    "        Args:\n",
    "            isRegression (bool) : 回帰の場合はTrue\n",
    "            times        (int)  : 学習回数\n",
    "            alpha        (float): 学習率\n",
    "            epsilon      (float): 学習を終了する閾値\n",
    "            seed         (int)  : 乱数の種\n",
    "        \"\"\"\n",
    "        self.isRegression = isRegression\n",
    "        self.W = None\n",
    "        self.b = None\n",
    "        self.times = times\n",
    "        self.alpha = alpha\n",
    "        self.epsilon = epsilon\n",
    "        np.random.seed(seed)\n",
    "    \n",
    "    def Forward(self, X):\n",
    "        \"\"\"\n",
    "        順伝播を計算\n",
    "        self.isRegression == Trueの場合は0以上1以下の値を返す.\n",
    "        self.isRegression == Falseの場合は0 or 1を返す.\n",
    "        \n",
    "        Args:\n",
    "            X (numpy.ndarray) : 入力の行列(m×n)\n",
    "                                mがサンプル数\n",
    "                                nが特徴変数の数\n",
    "        Returns:\n",
    "            numpy.ndarray: 出力の行列(m×1)\n",
    "        \"\"\"\n",
    "\n",
    "        # 活性化関数への入力を計算しZに代入\n",
    "        Z = X.dot(self.W) + self.b\n",
    "    \n",
    "        a = self.ActivationFunction(Z)\n",
    "        \n",
    "        if not self.isRegression:\n",
    "            # 0.5以上の項は1.0に、0.5未満の項は0.0にする\n",
    "            return np.where(a >= 0.5, 1.0, 0.0)\n",
    "\n",
    "        else:\n",
    "            return a\n",
    "    \n",
    "    def Sigmoid(self, value):\n",
    "        \"\"\"\n",
    "        シグモイド関数(ロジスティック関数)\n",
    "        \"\"\"\n",
    "        return 1.0/(1.0 + np.exp(- value))\n",
    "        \n",
    "    def Sigmoid_d(self, value):\n",
    "        \"\"\"\n",
    "        シグモイド関数(ロジスティック関数)の微分.\n",
    "        \"\"\"\n",
    "        return self.Sigmoid(value) * (1.0 - self.Sigmoid(value))\n",
    "    \n",
    "    def ActivationFunction(self, value):\n",
    "        \"\"\"\n",
    "        活性化関数.\n",
    "        今回はシグモイド関数を採用.\n",
    "        \"\"\"\n",
    "        return self.Sigmoid(value)\n",
    "\n",
    "    def ActivationFunction_d(self, value):\n",
    "        \"\"\"\n",
    "        活性化関数の微分.\n",
    "        今回は活性化関数としてシグモイド関数を採用.\n",
    "        \"\"\"\n",
    "        return self.Sigmoid_d(value)\n",
    "\n",
    "    def J(self, Yh, Y):\n",
    "        \"\"\"\n",
    "        コスト関数の計算\n",
    "        \n",
    "        Args:\n",
    "            Yh (numpy.ndarray): Forwardの結果(m×1の行列).\n",
    "            Y  (numpy.ndarray): 本当の値(m×1の行列).\n",
    "            \n",
    "        Returnes:\n",
    "            numpy.ndarray: スカラー.\n",
    "        \"\"\"\n",
    "        # コスト関数を計算しjに代入\n",
    "        j = ((Yh - Y) * (Yh - Y)).sum() / 2.0\n",
    "        \n",
    "        return j\n",
    "\n",
    "    def Delta(self, X, Y):\n",
    "        \"\"\"\n",
    "        重みとバイアス項の更新量の計算\n",
    "        \n",
    "        Args:\n",
    "            X (numpy.ndarray) : 入力の行列(m×n)\n",
    "                                mがサンプル数\n",
    "                                nが特徴変数の数\n",
    "            Y (numpy.ndarray) : 本当の値(m×1の行列).\n",
    "            \n",
    "        Returns:\n",
    "            numpy.ndarray : Xに繋がる重みの偏微分\n",
    "            numpy.ndarray : バイアス項の偏微分\n",
    "        \"\"\"\n",
    "        m, n = X.shape\n",
    "        \n",
    "        # dw(n×1の行列)を0で初期化\n",
    "        dw = np.zeros((n,1))\n",
    "        db = np.zeros((1,1))\n",
    "\n",
    "        Z = X.dot(self.W) + self.b\n",
    "        Yh = self.ActivationFunction(Z)\n",
    "        G = self.ActivationFunction_d(Z)\n",
    "        for i in range(m):\n",
    "            \n",
    "            # バイアス項の偏微分を計算\n",
    "            db[0][0] = db[0][0] + (Yh[i]  - Y[i]) * G[i]\n",
    "            \n",
    "            for j in range(n):\n",
    "                # 重みを計算しdw[j][0]に足し合わせる\n",
    "                dw[j][0] = dw[j][0] + (Yh[i] - Y[i]) * G[i] * X[i][j]\n",
    "                \n",
    "        return dw, db\n",
    "        \n",
    "    def Fit(self, X, Y):\n",
    "\n",
    "        # 重みとバイアス項の初期化\n",
    "        self.W = np.random.rand(X.shape[1], 1)\n",
    "        self.b = np.zeros((1,1))\n",
    "\n",
    "        # コスト関数の値がどう変わったのかを保存するリストを初期化\n",
    "        J_List = []\n",
    "\n",
    "        # 重み更新ループ\n",
    "        for t in range(self.times):\n",
    "            Yh = self.ActivationFunction(X.dot(self.W) + self.b)\n",
    "\n",
    "            # 誤差の計算\n",
    "            j = self.J(Yh, Y)\n",
    "            J_List.append(j)\n",
    "\n",
    "            # 誤差がepsilon以下なら終了\n",
    "            if j <= self.epsilon:\n",
    "                break\n",
    "                \n",
    "            # 重みとバイアス項の更新\n",
    "            dw, db = self.Delta(X, Y)\n",
    "            self.W = self.W - self.alpha * dw\n",
    "            self.b = self.b - self.alpha * db            \n",
    "\n",
    "        return J_List\n",
    "    "
   ]
  },
  {
   "cell_type": "code",
   "execution_count": 3,
   "metadata": {},
   "outputs": [],
   "source": [
    "# 入力と出力のデータを作成\n",
    "X = np.array([[0,0],[0,1],[1,0],[1,1]])\n",
    "Y_AND = np.array([[0],[0],[0],[1]])\n",
    "Y_OR = np.array([[0],[1],[1],[1]])\n",
    "Y_NAND = np.array([[1],[1],[1],[0]])\n",
    "Y_XOR = np.array([[0],[1],[1],[0]])"
   ]
  },
  {
   "cell_type": "code",
   "execution_count": 4,
   "metadata": {},
   "outputs": [],
   "source": [
    "SP_OR = SimplePerceptron()\n",
    "l_OR = SP_OR.Fit(X, Y_OR)\n",
    "\n",
    "SP_AND = SimplePerceptron()\n",
    "l_AND = SP_AND.Fit(X, Y_AND)\n",
    "\n",
    "SP_NAND = SimplePerceptron()\n",
    "l_NAND = SP_NAND.Fit(X, Y_NAND)\n",
    "\n",
    "SP_XOR = SimplePerceptron()\n",
    "l_XOR = SP_XOR.Fit(X, Y_XOR)"
   ]
  },
  {
   "cell_type": "code",
   "execution_count": 5,
   "metadata": {},
   "outputs": [
    {
     "data": {
      "text/plain": [
       "Text(0.5, 1.0, 'XOR')"
      ]
     },
     "execution_count": 5,
     "metadata": {},
     "output_type": "execute_result"
    },
    {
     "data": {
      "image/png": "[encoded data removed]",
      "text/plain": [
       "<Figure size 1728x288 with 4 Axes>"
      ]
     },
     "metadata": {
      "needs_background": "light"
     },
     "output_type": "display_data"
    }
   ],
   "source": [
    "plt.figure(figsize=(24, 4))\n",
    "\n",
    "plt.subplot(1,4,1)\n",
    "plt.plot(l_OR)\n",
    "plt.xlabel(\"times\")\n",
    "plt.ylabel(\"error\")\n",
    "plt.ylim(0, 1)\n",
    "plt.title(\"OR\")\n",
    "\n",
    "plt.subplot(1,4,2)\n",
    "plt.plot(l_AND)\n",
    "plt.xlabel(\"times\")\n",
    "plt.ylabel(\"error\")\n",
    "plt.ylim(0, 1)\n",
    "plt.title(\"AND\")\n",
    "\n",
    "plt.subplot(1,4,3)\n",
    "plt.plot(l_NAND)\n",
    "plt.xlabel(\"times\")\n",
    "plt.ylabel(\"error\")\n",
    "plt.ylim(0, 1)\n",
    "plt.title(\"NAND\")\n",
    "\n",
    "plt.subplot(1,4,4)\n",
    "plt.plot(l_XOR)\n",
    "plt.xlabel(\"times\")\n",
    "plt.ylabel(\"error\")\n",
    "plt.ylim(0, 1)\n",
    "plt.title(\"XOR\")"
   ]
  },
  {
   "cell_type": "code",
   "execution_count": 8,
   "metadata": {},
   "outputs": [],
   "source": [
    "def XOR(X, SP_or, SP_and, SP_nand):\n",
    "    a1 = SP_nand.Forward(X)\n",
    "    a2 = SP_or.Forward(X)\n",
    "    \n",
    "    # a1とa2を横につなげて、A(3×2の行列)とする\n",
    "    A = np.c_[a1, a2]\n",
    "    print(A)\n",
    "    Yh = SP_and.Forward(A)\n",
    "    \n",
    "    return Yh"
   ]
  },
  {
   "cell_type": "code",
   "execution_count": 9,
   "metadata": {},
   "outputs": [
    {
     "name": "stdout",
     "output_type": "stream",
     "text": [
      "[[1. 0.]\n",
      " [1. 1.]\n",
      " [1. 1.]\n",
      " [0. 1.]]\n"
     ]
    },
    {
     "data": {
      "text/plain": [
       "array([[0.],\n",
       "       [1.],\n",
       "       [1.],\n",
       "       [0.]])"
      ]
     },
     "execution_count": 9,
     "metadata": {},
     "output_type": "execute_result"
    }
   ],
   "source": [
    "XOR(X, SP_OR, SP_AND, SP_NAND)"
   ]
  },
  {
   "cell_type": "code",
   "execution_count": null,
   "metadata": {},
   "outputs": [],
   "source": []
  }
 ],
 "metadata": {
  "kernelspec": {
   "display_name": "Python 3",
   "language": "python",
   "name": "python3"
  },
  "language_info": {
   "codemirror_mode": {
    "name": "ipython",
    "version": 3
   },
   "file_extension": ".py",
   "mimetype": "text/x-python",
   "name": "python",
   "nbconvert_exporter": "python",
   "pygments_lexer": "ipython3",
   "version": "3.7.1"
  }
 },
 "nbformat": 4,
 "nbformat_minor": 2
}
